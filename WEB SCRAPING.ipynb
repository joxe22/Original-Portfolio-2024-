{
 "cells": [
  {
   "cell_type": "markdown",
   "id": "23897bab",
   "metadata": {},
   "source": [
    "##### WEB SCRAPING"
   ]
  },
  {
   "cell_type": "code",
   "execution_count": 1,
   "id": "e67f95c3",
   "metadata": {},
   "outputs": [],
   "source": [
    "## IMPORTING THE REQUIRED MODULES AND FUNCTIONS\n",
    "from bs4 import BeautifulSoup \n",
    "import requests\n"
   ]
  },
  {
   "cell_type": "code",
   "execution_count": 2,
   "id": "3db3ff30",
   "metadata": {},
   "outputs": [],
   "source": [
    "url = \"http://www.ibm.com\"\n",
    "data = requests.get(url).text"
   ]
  },
  {
   "cell_type": "code",
   "execution_count": 3,
   "id": "bbedec12",
   "metadata": {},
   "outputs": [
    {
     "name": "stdout",
     "output_type": "stream",
     "text": [
      "https://www.ibm.com/granite?lnk=dev\n",
      "https://developer.ibm.com/technologies/artificial-intelligence?lnk=dev\n",
      "https://www.ibm.com/products/watsonx-code-assistant?lnk=dev\n",
      "https://www.ibm.com/watsonx/developer/?lnk=dev\n",
      "https://www.ibm.com/thought-leadership/institute-business-value/report/ceo-generative-ai?lnk=bus\n",
      "https://www.ibm.com/think/reports/ai-in-action?lnk=bus\n",
      "https://www.ibm.com/impact/ai-ethics?lnk=bus\n",
      "https://www.ibm.com/account/reg/signup?formid=news-urx-52954&lnk=bus\n",
      "https://www.ibm.com/artificial-intelligence?lnk=ProdC\n",
      "https://www.ibm.com/hybrid-cloud?lnk=ProdC\n",
      "https://www.ibm.com/consulting?lnk=ProdC\n"
     ]
    }
   ],
   "source": [
    "## Creating a Soup object using the class BeautifulSoup\n",
    "soup = BeautifulSoup(data, \"html.parser\")\n",
    "## Scraping all links\n",
    "for link in soup.find_all('a'):   # in html anchor/link is represented by the tag <a>\n",
    "    print(link.get('href'))"
   ]
  },
  {
   "cell_type": "code",
   "execution_count": 4,
   "id": "a75beaa9",
   "metadata": {},
   "outputs": [],
   "source": [
    "## Scraping all images\n",
    "for link in soup.find_all('img'):\n",
    "    print(link.get('src'))"
   ]
  },
  {
   "cell_type": "markdown",
   "id": "f5577aff",
   "metadata": {},
   "source": [
    "##### SCRAPING DATA FROM HTML TABLES\n"
   ]
  },
  {
   "cell_type": "code",
   "execution_count": 8,
   "id": "3b1aaa3a",
   "metadata": {},
   "outputs": [],
   "source": [
    "#The below URL contains a html table with data about colors and color codes.\n",
    "URL1 = \"https://cf-courses-data.s3.us.cloud-object-storage.appdomain.cloud/IBM-DA0321EN-SkillsNetwork/labs/datasets/HTMLColorCodes.html\"\n"
   ]
  },
  {
   "cell_type": "code",
   "execution_count": 9,
   "id": "a4af5e69",
   "metadata": {},
   "outputs": [],
   "source": [
    "data1 = requests.get(URL1).text\n",
    "soup = BeautifulSoup(data, \"html.parser\")"
   ]
  },
  {
   "cell_type": "code",
   "execution_count": 10,
   "id": "7efc0a78",
   "metadata": {},
   "outputs": [],
   "source": [
    "## Finding the html table in the web page\n",
    "table = soup.find('table')"
   ]
  },
  {
   "cell_type": "code",
   "execution_count": 17,
   "id": "fa39db98",
   "metadata": {},
   "outputs": [
    {
     "name": "stdout",
     "output_type": "stream",
     "text": [
      "None\n"
     ]
    }
   ],
   "source": [
    "print(table)"
   ]
  },
  {
   "cell_type": "markdown",
   "id": "8e58f04e",
   "metadata": {},
   "source": [
    "##### GETTING ALL ROWS FROM THE TABLE"
   ]
  },
  {
   "cell_type": "code",
   "execution_count": 14,
   "id": "424f22f3",
   "metadata": {},
   "outputs": [
    {
     "ename": "IndentationError",
     "evalue": "expected an indented block (120924098.py, line 7)",
     "output_type": "error",
     "traceback": [
      "\u001b[1;36m  File \u001b[1;32m\"C:\\Users\\HP\\AppData\\Local\\Temp\\ipykernel_12048\\120924098.py\"\u001b[1;36m, line \u001b[1;32m7\u001b[0m\n\u001b[1;33m    cols = row.find_all('td')\u001b[0m\n\u001b[1;37m    ^\u001b[0m\n\u001b[1;31mIndentationError\u001b[0m\u001b[1;31m:\u001b[0m expected an indented block\n"
     ]
    }
   ],
   "source": [
    "table = soup.find('table', {'class': 'desired-class-name'})\n",
    "\n",
    "if table is None:\n",
    "    print(\"La tabla no se encontró en el HTML.\")\n",
    "else:\n",
    "    for row in table.find_all('tr'):\n",
    "    cols = row.find_all('td')\n",
    "    color_name = cols[2].get_text()\n",
    "    color_code = cols[3].get_text()\n",
    "    print(\"{}--->{}\".format(color_name, color_code))"
   ]
  },
  {
   "cell_type": "raw",
   "id": "06fa7f36",
   "metadata": {},
   "source": [
    "The reason of this last error is because the table has no content and it is labeled as None"
   ]
  },
  {
   "cell_type": "code",
   "execution_count": null,
   "id": "f12873f7",
   "metadata": {},
   "outputs": [],
   "source": []
  },
  {
   "cell_type": "code",
   "execution_count": null,
   "id": "a655ec5c",
   "metadata": {},
   "outputs": [],
   "source": []
  }
 ],
 "metadata": {
  "kernelspec": {
   "display_name": "Python 3 (ipykernel)",
   "language": "python",
   "name": "python3"
  },
  "language_info": {
   "codemirror_mode": {
    "name": "ipython",
    "version": 3
   },
   "file_extension": ".py",
   "mimetype": "text/x-python",
   "name": "python",
   "nbconvert_exporter": "python",
   "pygments_lexer": "ipython3",
   "version": "3.9.13"
  }
 },
 "nbformat": 4,
 "nbformat_minor": 5
}
